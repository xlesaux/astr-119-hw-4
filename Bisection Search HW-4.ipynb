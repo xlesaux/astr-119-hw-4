{
 "cells": [
  {
   "cell_type": "code",
   "execution_count": null,
   "metadata": {},
   "outputs": [],
   "source": [
    "%matplotlib inline\n",
    "import numpy as np\n",
    "import matplotlib.pyplot as plt"
   ]
  },
  {
   "cell_type": "code",
   "execution_count": null,
   "metadata": {},
   "outputs": [],
   "source": [
    "def function_for_roots(x):\n",
    "    a = 1.01\n",
    "    b = -3.04\n",
    "    c = 2.07\n",
    "    return a*x**2 + b*x + c"
   ]
  },
  {
   "cell_type": "markdown",
   "metadata": {},
   "source": [
    "### Bisection Search"
   ]
  },
  {
   "cell_type": "code",
   "execution_count": null,
   "metadata": {},
   "outputs": [],
   "source": [
    "def check_initial_values(f, x_min, x_max, tol):\n",
    "    \n",
    "    #check initial guesses\n",
    "    y_min = f(x_min)\n",
    "    y_max = f(x_max)\n",
    "    \n",
    "    #check if x_min and x_max contain a zero crossing \n",
    "    if (y_min*y_max>=0.0):\n",
    "        print(\"No zero corssing found in the range = \",x_min,x_max)\n",
    "        s = \"f(%f) = %f, f(%f) = %f\" % (x_min,y_min,x_max,y_max)\n",
    "        print(s)\n",
    "        return 0 \n",
    "    #if x_min is a root, then return flag == 1\n",
    "    if(np.fabs(y_min)<tol):\n",
    "        return 1\n",
    "    if(np.fabs(y_max)<tol):\n",
    "        return 2\n",
    "    #if we reach this point, the bracket is valid\n",
    "    #adn we wil return 3\n",
    "    return 3\n"
   ]
  },
  {
   "cell_type": "markdown",
   "metadata": {},
   "source": [
    "### Now define the main work function that performs the search "
   ]
  },
  {
   "cell_type": "code",
   "execution_count": null,
   "metadata": {},
   "outputs": [],
   "source": [
    "def bisection_root_finding (f, x_min_start, x_max_start, tol):\n",
    "    \n",
    "    #uses bisection search for root finding \n",
    "    \n",
    "    x_min = x_min_start\n",
    "    x_max = x_max_start\n",
    "    x_mid = 0.0\n",
    "    \n",
    "    y_min = f(x_min)\n",
    "    y_max = f(x_max)\n",
    "    y_mid = 0.0\n",
    "    \n",
    "    imax = 1000   #set the maximum number of iterations \n",
    "    i = 0         #iteration counter \n",
    "    \n",
    "    #check the initial values \n",
    "    flag = check_initial_values(f, x_min,x_max,tol)\n",
    "    if(flag==0):\n",
    "        print(\"error in bisection root finding().\")\n",
    "        raise ValueError('Initial values invalid',x_mi,x_max)\n",
    "        \n",
    "    elif(flag==1):\n",
    "        return x_min\n",
    "    \n",
    "    elif(flag==2):\n",
    "        return x_max\n",
    "    \n",
    "    #if we reach here then we need to conduct a search\n",
    "\n",
    "    #set a flag\n",
    "    flag = 1\n",
    "\n",
    "    #while loop\n",
    "    while(flag):\n",
    "        x_mid = 0.5*(x_min+x_max) #midpoints\n",
    "        y_mid = f(x_mid)\n",
    "    \n",
    "        #check if its a root\n",
    "        if(np.fabs(y_mid)<tol):\n",
    "            flag = 0\n",
    "        else:\n",
    "            #x_mid is not a root\n",
    "        \n",
    "            #if the product of the function at the midpoint \n",
    "            #and at one of the end points is greater than\n",
    "            #zero, replace this end point \n",
    "            if(f(x_min)*f(x_mid)>0):\n",
    "                x_min = x_mid\n",
    "            else:\n",
    "                x_max = x_mid\n",
    "            \n",
    "        #print out the iteration \n",
    "        print(x_min, f(x_min), x_max, f(x_max))\n",
    "    \n",
    "        \n",
    "        #count the iteration \n",
    "        i += 1\n",
    "\n",
    "        #if we exceed the max number of iterations, exit\n",
    "        if(i>=imax):\n",
    "            print(\"exceeded max numbers of iterations = \",i)\n",
    "            s = \"Min bracket f(%f) = %f\" % (x_min,f(x_min))\n",
    "            print(s)\n",
    "            s = \"Max bracket f(%f) = %f\" % (x_max,f(x_max))\n",
    "            print(s)\n",
    "            s = \"Mid bracket f(%f) = %f\" % (x_mid,f(x_mid))\n",
    "            print(s)\n",
    "            raise StopIteration ('Stopping iterations after ',i)\n",
    "    \n",
    "    return x_mid\n"
   ]
  },
  {
   "cell_type": "code",
   "execution_count": null,
   "metadata": {},
   "outputs": [],
   "source": [
    "x_min = 0.0\n",
    "x_max = 1.5\n",
    "tolerance = 1.0e-6\n",
    "\n",
    "#print the initial guesses\n",
    "print(x_min,function_for_roots(x_min))\n",
    "print(x_max,function_for_roots(x_max))\n",
    "\n",
    "x_root = bisection_root_finding(function_for_roots,x_min,x_max,tolerance)\n",
    "y_root = function_for_roots(x_root)\n",
    "\n",
    "s = \"Root found with y(%f) = %f\" % (x_root,y_root)\n",
    "print(s)\n"
   ]
  },
  {
   "cell_type": "markdown",
   "metadata": {},
   "source": [
    "### 18 Iterations "
   ]
  },
  {
   "cell_type": "code",
   "execution_count": null,
   "metadata": {
    "scrolled": true
   },
   "outputs": [],
   "source": [
    "x_min = 1.5\n",
    "x_max = 2.1\n",
    "tolerance = 1.0e-6\n",
    "\n",
    "#print the initial guesses\n",
    "print(x_min,function_for_roots(x_min))\n",
    "print(x_max,function_for_roots(x_max))\n",
    "\n",
    "x_root = bisection_root_finding(function_for_roots,x_min,x_max,tolerance)\n",
    "y_root = function_for_roots(x_root)\n",
    "\n",
    "s = \"Root found with y(%f) = %f\" % (x_root,y_root)\n",
    "print(s)"
   ]
  },
  {
   "cell_type": "markdown",
   "metadata": {},
   "source": [
    "### 18 Iterations"
   ]
  },
  {
   "cell_type": "markdown",
   "metadata": {},
   "source": [
    "### Time to graph"
   ]
  },
  {
   "cell_type": "code",
   "execution_count": null,
   "metadata": {},
   "outputs": [],
   "source": [
    "x = np.linspace(-20, 20, 1000)\n",
    "\n",
    "w = (1.01*x**2) - 3.04*x + 2.07   #1.01𝑥2−3.04𝑥+2.07   \n",
    "z = [1.041,1.97]\n",
    "y = [0.,0.]\n",
    "t = 0.0*x + 0.0\n",
    "\n",
    "\n",
    "plt.plot(x,w, label='w(x)')\n",
    "plt.plot(z,y,'.', markersize=10, label= 'zeros')\n",
    "plt.plot(x,t, label='y=0')\n",
    "plt.xlim([0.,3.])\n",
    "plt.ylim([-0.5,2.1])\n",
    "plt.legend(loc=1, framealpha=0.95)\n",
    "plt.savefig('HW4.png',bbox_inches=\"tight\", dpi=300)"
   ]
  },
  {
   "cell_type": "code",
   "execution_count": null,
   "metadata": {},
   "outputs": [],
   "source": []
  }
 ],
 "metadata": {
  "kernelspec": {
   "display_name": "Python 3",
   "language": "python",
   "name": "python3"
  },
  "language_info": {
   "codemirror_mode": {
    "name": "ipython",
    "version": 3
   },
   "file_extension": ".py",
   "mimetype": "text/x-python",
   "name": "python",
   "nbconvert_exporter": "python",
   "pygments_lexer": "ipython3",
   "version": "3.8.5"
  }
 },
 "nbformat": 4,
 "nbformat_minor": 4
}
